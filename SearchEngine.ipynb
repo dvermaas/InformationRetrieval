{
 "cells": [
  {
   "cell_type": "markdown",
   "metadata": {},
   "source": [
    "# Notebook made by\n",
    "\n",
    "__Names__: Daniël Vermaas, Jan Bakker, Jan Hündling\n",
    "\n",
    "__Student ids__: 12208698, 12518948, 11854375"
   ]
  },
  {
   "cell_type": "markdown",
   "metadata": {
    "nbgrader": {
     "grade": false,
     "grade_id": "intro",
     "locked": true,
     "schema_version": 3,
     "solution": false
    }
   },
   "source": [
    "# IR0 TREC STYLE EVALUATION project\n",
    "\n",
    "Here we describe the project. The overall description is  in the PDF file which belongs to this weeks assignment. Below you find more specific requirements.\n",
    "\n",
    "\n",
    "## Data\n",
    "\n",
    "The documents, queries, qrels, trec_eval and two notebooks doing some tests on the train and test sets are available as a zip file `trec_uncompressed_1.zip` at Canvas --> Files--> Week5. Unzipping it yields a folder with these subfolders: docs\t\tnotebooks\tqrels\t\tqueries\t\ttrec_eval-9.0.7.\n",
    "\n",
    "* notebooks contain 2 notebooks with some EDA on the train and test queries and qrels.\n",
    "* `trec_eval-9.0.7.` contains code to run evaluation scripts. \n",
    "\n",
    "## Input and output of your system\n",
    "\n",
    "Your complete system doing everything should run in the cell below after the command `runmyexperiment()`.\n",
    "We will run your system on a copy of the data file you downloaded, except that we have different qrels and different queries in `queries_test.txt` (but on the same documents).\n",
    "\n",
    "In order to run all systems smoothly you need to keep to the following rules about in- and out-put.\n",
    "\n",
    "### Input\n",
    "\n",
    "When we run your code, the folder `trec_uncompressed_1` (obtained when unzipping the zip file) is in this path from your notebook: `../../..`. See the output of the `ls` command below. So please put your folder in the same place when you create your code, and do use and do not change the `trec_data_path` variable.\n",
    "\n",
    "### Output\n",
    "\n",
    "#### Trec result Output \n",
    "\n",
    "Your output is in trec result file output format. For explanation see <http://www.rafaelglater.com/en/post/learn-how-to-use-trec_eval-to-evaluate-your-information-retrieval-system>.   \n",
    "\n",
    "**For each query, you can rank and score up to 1000 documents.**\n",
    "\n",
    "Save your three trec result files using this template  `result_<train|test>_<yourstudentID>_<BM25|TFIDF|LM>.csv` (thus eg, `results_train_12345678_TFIDF.csv` using the code provided. These files are saved  in the same folder as this notebook.\n",
    "You do not hand these in. \n",
    "Make sure the unit tests provided succeed.   **Use the student id of the leader of your group: the person who submits the assignment on Canvas.**\n",
    "\n",
    "#### Report output\n",
    "\n",
    "Next to saving  the result files, you make sure that the output  also returns a \"report\" on your \n",
    "systems containing the following\n",
    "\n",
    "1. You make three systems: a BM25 ranker, a TF-IDF vector space ranker and a language modelling ranker. You are free to choose and optimize the specific hyperparameters (and/or eg the used definitions of tf and idf, etc).\n",
    "2. Create an averaged 11 point interpolated precision recall graph  for your three systems. One plot please. See <https://nlp.stanford.edu/IR-book/html/htmledition/evaluation-of-ranked-retrieval-results-1.html#fig:trec-11-point> for an example.\n",
    "4. Create a graph with   for each system, the distribution of the obtained AP values, plus a kernel density estimation (a `seaborn` histogram with `kde`: you can make this with `sns.displot`). Create a table which gives the results of `pandas.describe()` for the ap values of the three systems. \n",
    "4. Create a (pandas) table with MAP values and interpolated average precision values for 11 recall values, for your three systems, comparable to [Table 12.3 in the MRS book](https://nlp.stanford.edu/IR-book/html/htmledition/ponte-and-crofts-experiments-1.html). \n",
    "    * you decide yourself which system is the baseline to which you compare (with significance tests) the other systems.\n",
    "5. Create two plots for your LM models, one for Jellinek-Mercer smoothing and one for Dirichlet smoothing. In both plots you put the smoothing hyperparameter on the x-axis, and the corresponding MAP value on the y-axis.\n",
    "6. **Give all plots and  tables self explaining captions, and good labels on the axis.**\n",
    "7. You best use `trec_eval`   in your code. Make sure it is placed in the path `'../../../trec_uncompressed_1/trec_eval-9.0.7/` from the folder with this notebook. Please use the variable `trec_eval_path` for the path. When we run your notebook, the trec eval folder is also there. \n",
    "8. **Note that these tables and plots cannot be hardcoded as they are produced when we grade your system using a different set of queries and qrels.** \n",
    "\n",
    "### Produce these plots and results twice.\n",
    "\n",
    "* You produce these plots for the train queries and train qrels, and we will see them as you have seen them.\n",
    "* You will also produce them for the test queries that you have never seen, and we will see them (and you too, when you see your notebook in the github repo back)\n",
    "* the same holds for the result files: your produce three for the train, and three for the test.\n",
    "\n",
    "#### How this works\n",
    "\n",
    "* In **your version** of `trec_uncompressed_1` you find identical train and test query and qrel files. Thus you produce twice the same results.\n",
    "* In **our version** of `trec_uncompressed_1`, the train and test files are different, and thus also the produced plots, and result files.\n",
    "\n",
    "### Reflection\n",
    "\n",
    "You write a short reflection in Markdown in which you reflect on this project. Discuss the main steps: \n",
    "1. preprocessing, \n",
    "2. tokenization, \n",
    "3. indexing, \n",
    "3. ranking, \n",
    "4. tuning your models, and \n",
    "5. evaluation. \n",
    "\n",
    "Indicate whether you are content with your results, and if they are line with the book.\n",
    "\n",
    "## How we review your project\n",
    "\n",
    "1. We download your submission and run all cells automatically. \n",
    "    * We set a **time limit of 2 hours of wall clock time** for running your notebook on a MacBook Pro with 2.9 GHz Intel Core i5, and 16Gb RAM. We run the submissions sequentially and have little other workload.\n",
    "    * Your complete processing pipeline should run in this time. \n",
    "    * You may write temporary files to the folder in which your notebook is residing. \n",
    "2. The folders `trec_uncompressed_1` and `trec_eval-9.0.7` are available in the indicated paths. And eg running  (from the trecc eval folder)  `! trec_eval -m map -m P.5,10 test/qrels.test test/results.test ` in your notebook yields results.\n",
    "3. We automatically collect your `results<..>.csv` files   and use `trec_eval` for computing your MAP score. We use your studentID and code run in the leaderboard.\n",
    "4. We will **manually** look at the outputted plots and tables, and at your reflection.\n",
    "\n",
    "### Scoring table\n",
    "\n",
    "You can receive a maximum of 10 points.\n",
    "\n",
    "| **Part** | **Points** |\n",
    "| :-- | :--: |\n",
    "|Reflection| 2|\n",
    "|Overall look and feel| 1|\n",
    "|MAP score| ${3\\frac{YourMAP}{MaxMAP}}$|\n",
    "| PR plot| 1|\n",
    "|AP table with significance tests| 1|\n",
    "| AP distribution plot| 1|\n",
    "|LM smoothing parameters| 1|\n",
    " \n",
    " \n",
    "Here, $\\mathit{MaxMAP}$ is the highest MAP over all submitted systems on the held-out test set. \n",
    "\n",
    "\n",
    "\n"
   ]
  },
  {
   "cell_type": "markdown",
   "metadata": {
    "nbgrader": {
     "grade": false,
     "grade_id": "reporta",
     "locked": true,
     "schema_version": 3,
     "solution": false
    }
   },
   "source": [
    "# Reflection (2 pts)\n",
    "\n",
    ">In the cell below you write your reflection in markdown. You may use figures, but make sure they are stored at the web."
   ]
  },
  {
   "cell_type": "markdown",
   "metadata": {
    "nbgrader": {
     "grade": true,
     "grade_id": "report",
     "locked": false,
     "points": 2,
     "schema_version": 3,
     "solution": true
    }
   },
   "source": [
    "Reflection assignment week 5\t\n",
    "\n",
    "1. Preprocessing\n",
    "\n",
    "All files within the documents folder are found using the os.walk() function, this ensures that all files are found, regardless of nesting (like ‘wsj’, which uses subfolders). After this we select all documents within the files. This is done by using regular expressions. We tried using BeautifulSoup to extract the document and corresponding texts, but found its functions for extracting text from .xml files to be unreliable. Therefore, we also used regular expressions to extract text and document numbers from the .xml files. We remove tags of the form <...> from the text and we also take care to merge multiple text fields when a document has multiple. \n",
    "\n",
    "2. Tokenizing\n",
    "\n",
    "Tokenizing is done both on the text from the documents and on the queries. First, the text is divided into individual words using the nltk.word_tokenize function. Each of these tokens is then stemmed using the Porter stemmer, to further simplify the index. We use a look-up table of previously stemmed words, in order to speed up the tokenizing process. Stemming reduces the index complexity, because it reduces tokens to simpler forms. This way, we can not only match query terms with documents containing them, but also with documents containing words of a similar form, which could of course also be relevant to the query. Some experimentation was done by dividing words like ‘two-components’ into ‘two’ and ‘components’, but those changes did not seem to affect results.\n",
    "\n",
    "3. Indexing\n",
    "\n",
    "Indexing is done much like in the previous homework assignments. Each token is stored in a dictionary, consisting of: the number of documents that contain the term (document frequency), the frequency of the term in the entire corpus (corpus frequency), and a dictionary containing number of times the term occurs per document (frequency per document / term frequency). Some other, not token specific information is stored within the index: The number of tokens per document, the amount of tokens in the entire corpus, the number of documents and files, and the amount of unique tokens. Although these numbers could also be computed from the term frequencies dictionary in the ranking step, only having to compute them once can save a lot of time. After the index is built, it is stored on disk, so that we can save time reading instead of computing it the next time we want to use it.\n",
    "\n",
    "4. Ranking\n",
    "\n",
    "For each query in the database, all documents are ranked using three different systems. The higher its score, the more relevant a document is considered to be. The highest 1000 ranking docs for both the training and test queries are stored in a results file. This file is later used to calculate the MAP of each system. \n",
    "\n",
    "The first system is the tf-idf model: It computes the score of a document for a given query term as the term frequency times the inverse document frequency, divided by the length of the document vector in order to treat long and short document equally. The score of a multi-term query is then the sum of these scores.\n",
    "\n",
    "The second system is the Okapi BM25 model. The BM25 is a bag-of-words model that computes the score of a document and query pair by summing the information given that a document contains a query term. The model has 2 parameters. One parameter adjusts the scaling of the term weight by the amount of length normalization. The other parameter adjusts between the use of binary term frequency and raw term frequency.\n",
    "\n",
    "The third and final model is LM. The LM model is a unigram model and is capable of two types of smoothing; Jellinek-Mercer smoothing, and Dirichlet smoothing. Jellinek-Mercer smooths between the probability of a term occurring in the document and all documents (corpus). Both of these are assigned a weight in the form of lambda. If document probability is 0.9, corpus probability will be 1 - 0.9. So this model uses only one parameter. Dirichlet smoothing is a bit more complicated. It uses both the length of the document and the probability of the term occurring within the corpus. It uses mu as a parameter, and this parameter should reflect the average document length of the corpus, according to IR literature.\n",
    "\n",
    "5. Tuning the models\n",
    "\n",
    "Our initial tf-idf model had a fairly low map score of about 0.2. We therefore divided the tf-idf by the length of the document vector, and that improved the MAP score. The Idf was also adjusted to be N/df instead of log(N/df), because this improved results even more. We did not change the definition of the term frequency to 1 + log(tf), because this lowered the map score. After these changes the highest achieved MAP score was 0.0607, which is respectable, but means that this model still performs the least out of all the models.\n",
    "\n",
    "Due to time constraints, no tuning has been done on the BM25 model, but the values of the parameters alpha and beta have been set to values, which are generally considered to work well for the system. This causes the BM25 model to have the best overall MAP score: 0.1344.\n",
    "\n",
    "For the LM system, extensive optimization has been performed. The MAP values for both Jellinek-Mercer smoothing and Dirichlet smoothing with different smoothing parameters have been plotted. From these plots, we could conclude that Dirichlet smoothing with a mu_mult = 5 (so mu = 5 * average document length) gives us the optimal map score of 0.1398. Therefore, this is the standard value used when ranking the documents. We decided to choose Jellinek Mercer over Dirchet smoothing, because it was faster, and provided better results. We first used both description and title to construct queries for this model, because it looked very promising. But in the end using only the title, just like the other models, proved faster and more accurate. LM Dirichlet is also the best out of all the models, beating BM25 by a small margin.\n",
    "\n",
    "6. Evaluation\n",
    "\n",
    "In conclusion, the BM25 system gives the best results with a MAP score of 0.1344. If we had more time, we would even be able to find the optimal parameters for this model, so that this score would be even higher. The LM system with Dirichlet smoothing and its optimized parameter also works well, with a MAP of 0.1398. Due to its simplicity, the tf-idf model only has a MAP score of 0.0607. These results are in line with the book, which states that the tf-idf model does perform less, and that the other two systems both work well. Overall, we are content with the results for the BM25 and LM systems, while we think that the MAP of the tf-idf model could have been significantly higher if we had managed to implement the vector space model.\n",
    "\n",
    "\n",
    "11-10-2021\n",
    "Jan Hundling 11854375\n",
    "Jan Bakker 12518948  \n",
    "Daniël Vermaas 12208698\n"
   ]
  },
  {
   "cell_type": "markdown",
   "metadata": {
    "nbgrader": {
     "grade": false,
     "grade_id": "code",
     "locked": true,
     "schema_version": 3,
     "solution": false
    }
   },
   "source": [
    "# Code for the search engine\n",
    "\n",
    "## Preliminaries"
   ]
  },
  {
   "cell_type": "code",
   "execution_count": 1,
   "metadata": {},
   "outputs": [],
   "source": [
    "'''\n",
    "Please import all packages here (and optionally download nltk data if you do not have it).\n",
    "'''\n",
    "import timeit\n",
    "import os\n",
    "import pandas as pd\n",
    "import numpy as np\n",
    "import seaborn as sns\n",
    "from bs4 import BeautifulSoup\n",
    "import re\n",
    "from collections import Counter, defaultdict\n",
    "from tqdm import tqdm_notebook as tqdm\n",
    "\n",
    "import nltk\n",
    "#nltk.download()\n",
    "from nltk.corpus import stopwords\n",
    "from nltk.stem.porter import PorterStemmer\n",
    "\n",
    "%matplotlib inline\n",
    "#%load_ext memory_profiler # if needed run !pip install memory_profiler"
   ]
  },
  {
   "cell_type": "code",
   "execution_count": 2,
   "metadata": {
    "nbgrader": {
     "grade": false,
     "grade_id": "test",
     "locked": true,
     "solution": false
    }
   },
   "outputs": [],
   "source": [
    "# do make and run a test\n",
    "# %cd ../../../trec_uncompressed_1/trec_eval-9.0.7\n",
    "# ! make \n",
    "# !head test/results.test   # how does the output look?"
   ]
  },
  {
   "cell_type": "code",
   "execution_count": 3,
   "metadata": {
    "nbgrader": {
     "grade": false,
     "grade_id": "paths",
     "locked": true,
     "schema_version": 3,
     "solution": false
    }
   },
   "outputs": [
    {
     "name": "stdout",
     "output_type": "stream",
     "text": [
      "total 20\n",
      "drwxrwxr-x 7 dvermaas dvermaas 4096 oct.   1 16:25 \u001b[0m\u001b[01;34mdocs\u001b[0m/\n",
      "drwxrwxr-x 3 dvermaas dvermaas 4096 oct.   1 16:26 \u001b[01;34mnotebooks\u001b[0m/\n",
      "drwxrwxr-x 3 dvermaas dvermaas 4096 oct.  11 00:55 \u001b[01;34mqrels\u001b[0m/\n",
      "drwxrwxr-x 2 dvermaas dvermaas 4096 oct.   7 16:37 \u001b[01;34mqueries\u001b[0m/\n",
      "drwxrwxr-x 4 dvermaas dvermaas 4096 oct.   2 17:35 \u001b[01;34mtrec_eval-9.0.7\u001b[0m/\n",
      "map                   \tall\t0.1785\n"
     ]
    }
   ],
   "source": [
    "# handy paths\n",
    "trec_data_path= '../../../trec_uncompressed_1/'\n",
    "trec_eval_path= trec_data_path+'trec_eval-9.0.7/'\n",
    "\n",
    "# just testing\n",
    "test_dir= trec_eval_path+'test/'\n",
    "\n",
    "# test whether your data is OK # should return a list of directories\n",
    "%ls -l $trec_data_path\n",
    "\n",
    "# test your trec_eval: should return: map                   \tall\t0.1785\n",
    "! $trec_eval_path/trec_eval -m map  $trec_eval_path/test/qrels.test $trec_eval_path/test/results.test "
   ]
  },
  {
   "cell_type": "code",
   "execution_count": 4,
   "metadata": {},
   "outputs": [],
   "source": [
    "import math as m\n",
    "\n",
    "def BM25(query, index, a=1.5, b=0.75):\n",
    "    \"\"\"\n",
    "    Given a query, score the documents according to the BM25 scoring\n",
    "    scheme and return a list of  (document, score) pairs  in decreasing order\n",
    "    \"\"\"\n",
    "\n",
    "    avg_D_len = sum(index['DocSizes'].values()) / len(index['DocSizes'])\n",
    "      \n",
    "    # Store all scores per document calculated by Okapi BM25 formula in dict\n",
    "    Okapi_dict = {}\n",
    "    for Qi in query:\n",
    "        DocFreq = index[Qi]['DocFreq'] if Qi in index else 0\n",
    "        # IDF smoothed to prevent division by zero\n",
    "        IDF_smooth = (m.log((index['TotalDocuments'] / (1 + DocFreq)),2) + 1)\n",
    "        \n",
    "        if Qi in index:\n",
    "            for D, termfreq in index[Qi]['Freq_per_Doc'].items():\n",
    "                D_len = index['DocSizes'][D]\n",
    "                rawcount = termfreq\n",
    "                D_score = IDF_smooth * ((rawcount * (a + 1)) / (rawcount + (a * 1 - b + b * (D_len / avg_D_len))))    \n",
    "    \n",
    "                if D in Okapi_dict:    \n",
    "                    Okapi_dict[D] += D_score\n",
    "                else:\n",
    "                    Okapi_dict[D] = D_score\n",
    "                    \n",
    "    return sorted(Okapi_dict.items(), key=lambda item: item[1], reverse=True)[:1000]\n",
    "\n",
    "\n",
    "\n",
    "def tfidf(word, document, index):\n",
    "    \"\"\"\n",
    "    Given a single query term and a document, score the document using\n",
    "    tf-idf.\n",
    "    \"\"\"\n",
    "    # if this is called we already know it is in index\n",
    "    tf = index[word][\"Freq_per_Doc\"][document]\n",
    "    idf = index[\"TotalDocuments\"] / index[word]['DocFreq']\n",
    "    \n",
    "    return tf * idf / index['DocNorms'][document]\n",
    "\n",
    "\n",
    "def rankedSearchTfidf(query,index):\n",
    "    \"\"\"\n",
    "    Given a query, score the documents according to the tf-idf scoring\n",
    "    scheme and return  the documents and scores in decreasing order.\n",
    "    \"\"\"\n",
    "    # Make dict that stores document as keys and summed tf-idf score for query\n",
    "    score = defaultdict(float)\n",
    "    \n",
    "    for word in query:\n",
    "        if word in index:\n",
    "            for doc in index[word]['Freq_per_Doc']:\n",
    "                score[doc] += tfidf(word, doc, index)\n",
    " \n",
    "    return sorted(score.items(), key=lambda item: item[1], reverse=True)[:1000]\n",
    "\n",
    "\n",
    "\n",
    "\n",
    "#Jellinek-Mercer smoothing and one for Dirichlet smoothing\n",
    "def LM(query, index, model ='Jellinek-Mercer', lamb=.5, mu_mult=5):\n",
    "    mu = mu_mult * np.mean(list(index['DocSizes'].values()))\n",
    "    \n",
    "    # Store all word probabilities\n",
    "    score = defaultdict(lambda : 1.0)\n",
    "    black_list = set()\n",
    "    \n",
    "    if model == 'Jellinek-Mercer':\n",
    "    # Fetch probabilities of all words\n",
    "        for word in query:\n",
    "            if word in index:\n",
    "                p_collection = index[word][\"CorpusFreq\"] / index['CollectionSize']\n",
    "                for doc in index['DocSizes']:\n",
    "                    # Check if term exists in doc\n",
    "                    if doc in index[word][\"Freq_per_Doc\"]:\n",
    "                        tf = index[word][\"Freq_per_Doc\"][doc]\n",
    "                        p_doc = tf / index['DocSizes'][doc]\n",
    "                        p_word = lamb * p_doc + (1 - lamb) * p_collection\n",
    "                    else:\n",
    "                        p_word = (1 - lamb) * p_collection               \n",
    "                    score[doc] *= p_word\n",
    "    \n",
    "    if model == 'Dirichlet smoothing':\n",
    "        for word in query:\n",
    "            if word in index:\n",
    "                p_collection = index[word][\"CorpusFreq\"] / index['CollectionSize']\n",
    "                for doc in index['DocSizes']:\n",
    "                    if doc in index[word][\"Freq_per_Doc\"]:\n",
    "                        tf = index[word][\"Freq_per_Doc\"][doc]\n",
    "                    else:\n",
    "                        tf = 0\n",
    "                    p_word = (tf + mu * p_collection) / (index['DocSizes'][doc] + mu)\n",
    "                    \n",
    "                    score[doc] *= p_word\n",
    "    \n",
    "    # Return results sorted from high to low\n",
    "    return sorted(score.items(), key=lambda item: item[1], reverse=True)[:1000]\n",
    "\n",
    "\n"
   ]
  },
  {
   "cell_type": "code",
   "execution_count": 5,
   "metadata": {},
   "outputs": [],
   "source": [
    "def formatranking(rankedlist, query_id):\n",
    "    \"\"\"\n",
    "    This function takes a ranked list in decreasing order of 1000 tuples (document, score)\n",
    "    and returns [[query-id Q0 document-id rank score STANDARD], ......]\n",
    "    \"\"\"\n",
    "    formattedlist = []\n",
    "    rank = 1\n",
    "    for docno, score in rankedlist:\n",
    "        formattedlist.append([query_id, 'Q0', docno, rank, score, 'STANDARD'])\n",
    "        rank += 1\n",
    "        \n",
    "    return formattedlist"
   ]
  },
  {
   "cell_type": "code",
   "execution_count": 6,
   "metadata": {},
   "outputs": [],
   "source": [
    "# plotting tools\n",
    "from IPython.display import display, HTML\n",
    "\n",
    "import matplotlib.pyplot as plt\n",
    "\n",
    "\n",
    "def get_results(run, model, studid):\n",
    "    resultfile= 'results_'+run+'_'+str(studid)+'_'+model\n",
    "    qrelsfile = trec_data_path+'/qrels/qrels_'+run+'.txt'\n",
    "        \n",
    "    results = ! $trec_eval_path/trec_eval -m map -m iprec_at_recall $qrelsfile $resultfile\n",
    "    return [float(measure.split('\\t')[2]) for measure in results]     \n",
    "\n",
    "\n",
    "def PR_plot(run, studid):\n",
    "    recall = np.arange(0, 1.01, 0.1)\n",
    "\n",
    "    for model in [\"TFIDF\", \"BM25\", \"LM\"]:\n",
    "        results = get_results(run, model, studid)\n",
    "        \n",
    "        plt.plot(recall, results[1:], label=model, marker='o')\n",
    "    \n",
    "    plt.title('Interpolated precision recall graph for the ' + run + ' set')\n",
    "    plt.ylabel('Interpolated precision')\n",
    "    plt.xlabel('Recall')\n",
    "    plt.legend()\n",
    "    plt.show()\n",
    "    \n",
    "    print('Interpolated precision on 11 points plotted against the recall for each system.')\n",
    "    \n",
    "    \n",
    "def AP_graph(run, studid):\n",
    "    qrelsfile = trec_data_path+'/qrels/qrels_'+run+'.txt'\n",
    "    \n",
    "    data = defaultdict(list)\n",
    "        \n",
    "    for model in [\"TFIDF\", \"BM25\", \"LM\"]:\n",
    "        resultfile= 'results_'+run+'_'+str(studid)+'_'+model\n",
    "        \n",
    "        results = ! $trec_eval_path/trec_eval -q -m map $qrelsfile $resultfile\n",
    "        \n",
    "        data[model] = [float(measure.split('\\t')[2]) for measure in results[1:]]\n",
    "        \n",
    "    df = pd.DataFrame(data)\n",
    "    \n",
    "    sns.displot(df, kde=True)\n",
    "    \n",
    "    plt.title('Average precision distribution for the ' + run + ' set')\n",
    "    plt.xlabel('Average precision')\n",
    "    \n",
    "    plt.show()\n",
    "    \n",
    "    print('Distribution of the average precision values for each system.')\n",
    "    \n",
    "    display(HTML(df.describe().to_html())) \n",
    "    \n",
    "    print('Table describing the dataframe with the AP values for each system.')\n",
    "    \n",
    "\n",
    "def calculate_change(old_values, new_values):\n",
    "    return [(new-old)/old*100 if old else '-' for old, new in zip(old_values, new_values)]\n",
    "    \n",
    "\n",
    "def AP_table(run, studid):\n",
    "    data = {'Recall': list(np.arange(0, 1.01, 0.1)) + ['Map']}\n",
    "\n",
    "    for model in [\"TFIDF\", \"BM25\", \"LM\"]:\n",
    "        results = get_results(run, model, studid)\n",
    "        \n",
    "        data['AP for ' + model] = results[1:] + [results[0]]\n",
    "        \n",
    "        if model in [\"BM25\", \"LM\"]:\n",
    "            name = '% Change for ' + model\n",
    "            data[name] = calculate_change(data['AP for TFIDF'], data['AP for ' + model])\n",
    "    \n",
    "    df = pd.DataFrame(data)\n",
    "    display(HTML(df.to_html())) \n",
    "    \n",
    "    print('Table with MAP and average precision values for each system.')\n",
    "    print('The BM25 and LM system are compared to the TFIDF system using significance tests.')"
   ]
  },
  {
   "cell_type": "code",
   "execution_count": 7,
   "metadata": {},
   "outputs": [],
   "source": [
    "# LM Plotting functions\n",
    "def LM_lambda_plot(index):\n",
    "    y_out = []\n",
    "    for query_set in ['train','test']:\n",
    "        path = trec_data_path + 'queries/queries_' + query_set + '.csv'\n",
    "        stemmer  = PorterStemmer()\n",
    "        qset = pd.read_csv(path)\n",
    "\n",
    "        q_titles = [nltk.word_tokenize(sentence) for sentence in qset['title']]\n",
    "        q_titles = [[stemmer.stem(word) for word in query] for query in q_titles]\n",
    "        q_tpl = list(zip(list(qset['q_id']), q_titles))\n",
    "\n",
    "        for i in range(0,11,2):\n",
    "            formatted_ranks = []\n",
    "            for q_id, q_title in q_tpl:\n",
    "                TFIDFranking = LM(q_title, index, lamb=i/10)\n",
    "                formatted_ranks.append(formatranking(TFIDFranking, q_id))\n",
    "            resultslist = [doc for query in formatted_ranks for doc in query]\n",
    "            df = pd.DataFrame(resultslist)\n",
    "            df.to_csv('lambda='+str(i/10)+'lm', sep='\\t', header=None, index=False)\n",
    "            print('working', int(i/2)+1,'/6')\n",
    "\n",
    "        resultfiles= !ls lambda*\n",
    "        y_lambda_map = []\n",
    "        for f in resultfiles:\n",
    "            if query_set == 'train':\n",
    "                mp = ! $trec_eval_path/trec_eval -m map  $trec_data_path/qrels/qrels_train.txt $f\n",
    "            else:\n",
    "                mp = ! $trec_eval_path/trec_eval -m map  $trec_data_path/qrels/qrels_test.txt $f\n",
    "            mp = mp.get_list()[0].split('\\t')[2]\n",
    "            y_lambda_map.append(float(mp))\n",
    "        plt.plot([i/10 for i in range(0,11,2)], y_lambda_map, label=query_set)\n",
    "    plt.title('LM MAP for Jellinek-Mercer smoothing with different parameter values')\n",
    "    plt.xlabel('Lambda value')\n",
    "    plt.ylabel('MAP')\n",
    "    plt.legend()\n",
    "    plt.show()\n",
    "    \n",
    "def LM_mu_plot(index):\n",
    "    y_out = []\n",
    "    for query_set in ['train', 'test']:\n",
    "        path = trec_data_path + 'queries/queries_' + query_set + '.csv'\n",
    "        stemmer  = PorterStemmer()\n",
    "        qset = pd.read_csv(path)\n",
    "\n",
    "        q_titles = [nltk.word_tokenize(sentence) for sentence in qset['title']]\n",
    "        q_titles = [[stemmer.stem(word) for word in query] for query in q_titles]\n",
    "        q_tpl = list(zip(list(qset['q_id']), q_titles))\n",
    "\n",
    "        for i in range(0,20,5):\n",
    "            formatted_ranks = []\n",
    "            for q_id, q_title in q_tpl:\n",
    "                LMranking = LM(q_title, index, model='Dirichlet smoothing', mu_mult=i)\n",
    "                formatted_ranks.append(formatranking(LMranking, q_id))\n",
    "            resultslist = [doc for query in formatted_ranks for doc in query]\n",
    "            df = pd.DataFrame(resultslist)\n",
    "            df.to_csv('mu='+str(i)+'lm', sep='\\t', header=None, index=False)\n",
    "            print('working', int((i/5)+1),'/4')\n",
    "\n",
    "        resultfiles= !ls mu*\n",
    "        y_lambda_map = []\n",
    "        for f in resultfiles:\n",
    "            if query_set == 'train':\n",
    "                mp = ! $trec_eval_path/trec_eval -m map  $trec_data_path/qrels/qrels_train.txt $f\n",
    "            else:\n",
    "                mp = ! $trec_eval_path/trec_eval -m map  $trec_data_path/qrels/qrels_test.txt $f\n",
    "            mp = mp.get_list()[0].split('\\t')[2]\n",
    "            y_lambda_map.append(float(mp))\n",
    "        ml = np.mean(list(index['DocSizes'].values()))\n",
    "        plt.plot([i * ml for i in range(0,20,5)], y_lambda_map, label=query_set)\n",
    "    plt.title('MAP for Dirichlet smoothing with different parameter values')\n",
    "    plt.xlabel('Mu value')\n",
    "    plt.ylabel('MAP')\n",
    "    plt.legend()\n",
    "    plt.show()\n",
    "    print('(Only plotted for multipliers 0, 5, 10, 15 due to time constraints)')"
   ]
  },
  {
   "cell_type": "markdown",
   "metadata": {},
   "source": [
    "## Your code"
   ]
  },
  {
   "cell_type": "code",
   "execution_count": 8,
   "metadata": {
    "nbgrader": {
     "grade": false,
     "grade_id": "experiment",
     "locked": false,
     "points": 4,
     "schema_version": 3,
     "solution": true
    },
    "scrolled": false
   },
   "outputs": [
    {
     "name": "stdout",
     "output_type": "stream",
     "text": [
      "CPU times: user 2 µs, sys: 0 ns, total: 2 µs\n",
      "Wall time: 4.05 µs\n"
     ]
    },
    {
     "name": "stderr",
     "output_type": "stream",
     "text": [
      "<ipython-input-8-a56174e6e7da>:36: TqdmDeprecationWarning: This function will be removed in tqdm==5.0.0\n",
      "Please use `tqdm.notebook.tqdm` instead of `tqdm.tqdm_notebook`\n",
      "  for file in tqdm(files):\n"
     ]
    },
    {
     "data": {
      "application/vnd.jupyter.widget-view+json": {
       "model_id": "c2bacd1e735d4f23bd3f80bba190c8ff",
       "version_major": 2,
       "version_minor": 0
      },
      "text/plain": [
       "  0%|          | 0/1 [00:00<?, ?it/s]"
      ]
     },
     "metadata": {},
     "output_type": "display_data"
    },
    {
     "data": {
      "application/vnd.jupyter.widget-view+json": {
       "model_id": "be69ea20d5fd44d088fb176bf8b64362",
       "version_major": 2,
       "version_minor": 0
      },
      "text/plain": [
       "  0%|          | 0/181 [00:00<?, ?it/s]"
      ]
     },
     "metadata": {},
     "output_type": "display_data"
    },
    {
     "data": {
      "application/vnd.jupyter.widget-view+json": {
       "model_id": "1c2a167313894754a093ad39aac6c14e",
       "version_major": 2,
       "version_minor": 0
      },
      "text/plain": [
       "  0%|          | 0/1 [00:00<?, ?it/s]"
      ]
     },
     "metadata": {},
     "output_type": "display_data"
    },
    {
     "data": {
      "application/vnd.jupyter.widget-view+json": {
       "model_id": "0e00bc2c72f446debaa7c417b302afc7",
       "version_major": 2,
       "version_minor": 0
      },
      "text/plain": [
       "  0%|          | 0/126 [00:00<?, ?it/s]"
      ]
     },
     "metadata": {},
     "output_type": "display_data"
    },
    {
     "data": {
      "application/vnd.jupyter.widget-view+json": {
       "model_id": "c1fd0ebbb86e428eaabdedc4a453d1b5",
       "version_major": 2,
       "version_minor": 0
      },
      "text/plain": [
       "  0%|          | 0/41 [00:00<?, ?it/s]"
      ]
     },
     "metadata": {},
     "output_type": "display_data"
    },
    {
     "data": {
      "application/vnd.jupyter.widget-view+json": {
       "model_id": "052ea447c49341d2ba1af7e1dd47f46f",
       "version_major": 2,
       "version_minor": 0
      },
      "text/plain": [
       "  0%|          | 0/108 [00:00<?, ?it/s]"
      ]
     },
     "metadata": {},
     "output_type": "display_data"
    },
    {
     "data": {
      "application/vnd.jupyter.widget-view+json": {
       "model_id": "ac24f60f62f243e990fe342a0dafbb3d",
       "version_major": 2,
       "version_minor": 0
      },
      "text/plain": [
       "  0%|          | 0/251 [00:00<?, ?it/s]"
      ]
     },
     "metadata": {},
     "output_type": "display_data"
    },
    {
     "data": {
      "application/vnd.jupyter.widget-view+json": {
       "model_id": "7917650cb27a434ebeb310a7c8d0a44b",
       "version_major": 2,
       "version_minor": 0
      },
      "text/plain": [
       "  0%|          | 0/197 [00:00<?, ?it/s]"
      ]
     },
     "metadata": {},
     "output_type": "display_data"
    },
    {
     "data": {
      "application/vnd.jupyter.widget-view+json": {
       "model_id": "a31b7c7106194083aaaaa55a513a2f03",
       "version_major": 2,
       "version_minor": 0
      },
      "text/plain": [
       "  0%|          | 0/365 [00:00<?, ?it/s]"
      ]
     },
     "metadata": {},
     "output_type": "display_data"
    },
    {
     "name": "stdout",
     "output_type": "stream",
     "text": [
      "Writing index to disk...\n",
      "index_build_time: 18 m 36 s\n",
      "0/6 starting evaluation...\n",
      "1/6 0 m 48 s  filename: results_train_12208698_BM25\n",
      "2/6 1 m 11 s  filename: results_train_12208698_TFIDF\n",
      "3/6 4 m 15 s  filename: results_train_12208698_LM\n"
     ]
    },
    {
     "data": {
      "image/png": "[encoded data removed]",
      "text/plain": [
       "<Figure size 432x288 with 1 Axes>"
      ]
     },
     "metadata": {
      "needs_background": "light"
     },
     "output_type": "display_data"
    },
    {
     "name": "stdout",
     "output_type": "stream",
     "text": [
      "Interpolated precision on 11 points plotted against the recall for each system.\n"
     ]
    },
    {
     "data": {
      "image/png": "[encoded data removed]",
      "text/plain": [
       "<Figure size 424.25x360 with 1 Axes>"
      ]
     },
     "metadata": {
      "needs_background": "light"
     },
     "output_type": "display_data"
    },
    {
     "name": "stdout",
     "output_type": "stream",
     "text": [
      "Distribution of the average precision values for each system.\n"
     ]
    },
    {
     "data": {
      "text/html": [
       "<table border=\"1\" class=\"dataframe\">\n",
       "  <thead>\n",
       "    <tr style=\"text-align: right;\">\n",
       "      <th></th>\n",
       "      <th>TFIDF</th>\n",
       "      <th>BM25</th>\n",
       "      <th>LM</th>\n",
       "    </tr>\n",
       "  </thead>\n",
       "  <tbody>\n",
       "    <tr>\n",
       "      <th>count</th>\n",
       "      <td>83.000000</td>\n",
       "      <td>83.000000</td>\n",
       "      <td>83.000000</td>\n",
       "    </tr>\n",
       "    <tr>\n",
       "      <th>mean</th>\n",
       "      <td>0.061412</td>\n",
       "      <td>0.135814</td>\n",
       "      <td>0.141395</td>\n",
       "    </tr>\n",
       "    <tr>\n",
       "      <th>std</th>\n",
       "      <td>0.070109</td>\n",
       "      <td>0.126020</td>\n",
       "      <td>0.135072</td>\n",
       "    </tr>\n",
       "    <tr>\n",
       "      <th>min</th>\n",
       "      <td>0.000000</td>\n",
       "      <td>0.003500</td>\n",
       "      <td>0.001700</td>\n",
       "    </tr>\n",
       "    <tr>\n",
       "      <th>25%</th>\n",
       "      <td>0.008450</td>\n",
       "      <td>0.045700</td>\n",
       "      <td>0.042600</td>\n",
       "    </tr>\n",
       "    <tr>\n",
       "      <th>50%</th>\n",
       "      <td>0.034600</td>\n",
       "      <td>0.094900</td>\n",
       "      <td>0.099200</td>\n",
       "    </tr>\n",
       "    <tr>\n",
       "      <th>75%</th>\n",
       "      <td>0.093600</td>\n",
       "      <td>0.171750</td>\n",
       "      <td>0.184550</td>\n",
       "    </tr>\n",
       "    <tr>\n",
       "      <th>max</th>\n",
       "      <td>0.327100</td>\n",
       "      <td>0.522800</td>\n",
       "      <td>0.534400</td>\n",
       "    </tr>\n",
       "  </tbody>\n",
       "</table>"
      ],
      "text/plain": [
       "<IPython.core.display.HTML object>"
      ]
     },
     "metadata": {},
     "output_type": "display_data"
    },
    {
     "name": "stdout",
     "output_type": "stream",
     "text": [
      "Table describing the dataframe with the AP values for each system.\n"
     ]
    },
    {
     "data": {
      "text/html": [
       "<table border=\"1\" class=\"dataframe\">\n",
       "  <thead>\n",
       "    <tr style=\"text-align: right;\">\n",
       "      <th></th>\n",
       "      <th>Recall</th>\n",
       "      <th>AP for TFIDF</th>\n",
       "      <th>AP for BM25</th>\n",
       "      <th>% Change for BM25</th>\n",
       "      <th>AP for LM</th>\n",
       "      <th>% Change for LM</th>\n",
       "    </tr>\n",
       "  </thead>\n",
       "  <tbody>\n",
       "    <tr>\n",
       "      <th>0</th>\n",
       "      <td>0.0</td>\n",
       "      <td>0.3904</td>\n",
       "      <td>0.7633</td>\n",
       "      <td>95.517418</td>\n",
       "      <td>0.7095</td>\n",
       "      <td>81.73668</td>\n",
       "    </tr>\n",
       "    <tr>\n",
       "      <th>1</th>\n",
       "      <td>0.1</td>\n",
       "      <td>0.1877</td>\n",
       "      <td>0.3888</td>\n",
       "      <td>107.139052</td>\n",
       "      <td>0.3911</td>\n",
       "      <td>108.364411</td>\n",
       "    </tr>\n",
       "    <tr>\n",
       "      <th>2</th>\n",
       "      <td>0.2</td>\n",
       "      <td>0.1295</td>\n",
       "      <td>0.2763</td>\n",
       "      <td>113.359073</td>\n",
       "      <td>0.2758</td>\n",
       "      <td>112.972973</td>\n",
       "    </tr>\n",
       "    <tr>\n",
       "      <th>3</th>\n",
       "      <td>0.3</td>\n",
       "      <td>0.0837</td>\n",
       "      <td>0.1904</td>\n",
       "      <td>127.479092</td>\n",
       "      <td>0.2033</td>\n",
       "      <td>142.891278</td>\n",
       "    </tr>\n",
       "    <tr>\n",
       "      <th>4</th>\n",
       "      <td>0.4</td>\n",
       "      <td>0.0446</td>\n",
       "      <td>0.1154</td>\n",
       "      <td>158.744395</td>\n",
       "      <td>0.1333</td>\n",
       "      <td>198.878924</td>\n",
       "    </tr>\n",
       "    <tr>\n",
       "      <th>5</th>\n",
       "      <td>0.5</td>\n",
       "      <td>0.0279</td>\n",
       "      <td>0.0625</td>\n",
       "      <td>124.014337</td>\n",
       "      <td>0.0780</td>\n",
       "      <td>179.569892</td>\n",
       "    </tr>\n",
       "    <tr>\n",
       "      <th>6</th>\n",
       "      <td>0.6</td>\n",
       "      <td>0.0171</td>\n",
       "      <td>0.0290</td>\n",
       "      <td>69.590643</td>\n",
       "      <td>0.0381</td>\n",
       "      <td>122.807018</td>\n",
       "    </tr>\n",
       "    <tr>\n",
       "      <th>7</th>\n",
       "      <td>0.7</td>\n",
       "      <td>0.0097</td>\n",
       "      <td>0.0171</td>\n",
       "      <td>76.28866</td>\n",
       "      <td>0.0182</td>\n",
       "      <td>87.628866</td>\n",
       "    </tr>\n",
       "    <tr>\n",
       "      <th>8</th>\n",
       "      <td>0.8</td>\n",
       "      <td>0.0000</td>\n",
       "      <td>0.0032</td>\n",
       "      <td>-</td>\n",
       "      <td>0.0030</td>\n",
       "      <td>-</td>\n",
       "    </tr>\n",
       "    <tr>\n",
       "      <th>9</th>\n",
       "      <td>0.9</td>\n",
       "      <td>0.0000</td>\n",
       "      <td>0.0000</td>\n",
       "      <td>-</td>\n",
       "      <td>0.0000</td>\n",
       "      <td>-</td>\n",
       "    </tr>\n",
       "    <tr>\n",
       "      <th>10</th>\n",
       "      <td>1.0</td>\n",
       "      <td>0.0000</td>\n",
       "      <td>0.0000</td>\n",
       "      <td>-</td>\n",
       "      <td>0.0000</td>\n",
       "      <td>-</td>\n",
       "    </tr>\n",
       "    <tr>\n",
       "      <th>11</th>\n",
       "      <td>Map</td>\n",
       "      <td>0.0607</td>\n",
       "      <td>0.1344</td>\n",
       "      <td>121.416804</td>\n",
       "      <td>0.1398</td>\n",
       "      <td>130.313015</td>\n",
       "    </tr>\n",
       "  </tbody>\n",
       "</table>"
      ],
      "text/plain": [
       "<IPython.core.display.HTML object>"
      ]
     },
     "metadata": {},
     "output_type": "display_data"
    },
    {
     "name": "stdout",
     "output_type": "stream",
     "text": [
      "Table with MAP and average precision values for each system.\n",
      "The BM25 and LM system are compared to the TFIDF system using significance tests.\n",
      "4/6 0 m 46 s  filename: results_test_12208698_BM25\n",
      "5/6 1 m 8 s  filename: results_test_12208698_TFIDF\n",
      "6/6 4 m 12 s  filename: results_test_12208698_LM\n"
     ]
    },
    {
     "data": {
      "image/png": "[encoded data removed]",
      "text/plain": [
       "<Figure size 432x288 with 1 Axes>"
      ]
     },
     "metadata": {
      "needs_background": "light"
     },
     "output_type": "display_data"
    },
    {
     "name": "stdout",
     "output_type": "stream",
     "text": [
      "Interpolated precision on 11 points plotted against the recall for each system.\n"
     ]
    },
    {
     "data": {
      "image/png": "[encoded data removed]",
      "text/plain": [
       "<Figure size 424.25x360 with 1 Axes>"
      ]
     },
     "metadata": {
      "needs_background": "light"
     },
     "output_type": "display_data"
    },
    {
     "name": "stdout",
     "output_type": "stream",
     "text": [
      "Distribution of the average precision values for each system.\n"
     ]
    },
    {
     "data": {
      "text/html": [
       "<table border=\"1\" class=\"dataframe\">\n",
       "  <thead>\n",
       "    <tr style=\"text-align: right;\">\n",
       "      <th></th>\n",
       "      <th>TFIDF</th>\n",
       "      <th>BM25</th>\n",
       "      <th>LM</th>\n",
       "    </tr>\n",
       "  </thead>\n",
       "  <tbody>\n",
       "    <tr>\n",
       "      <th>count</th>\n",
       "      <td>83.000000</td>\n",
       "      <td>83.000000</td>\n",
       "      <td>83.000000</td>\n",
       "    </tr>\n",
       "    <tr>\n",
       "      <th>mean</th>\n",
       "      <td>0.061412</td>\n",
       "      <td>0.135814</td>\n",
       "      <td>0.141395</td>\n",
       "    </tr>\n",
       "    <tr>\n",
       "      <th>std</th>\n",
       "      <td>0.070109</td>\n",
       "      <td>0.126020</td>\n",
       "      <td>0.135072</td>\n",
       "    </tr>\n",
       "    <tr>\n",
       "      <th>min</th>\n",
       "      <td>0.000000</td>\n",
       "      <td>0.003500</td>\n",
       "      <td>0.001700</td>\n",
       "    </tr>\n",
       "    <tr>\n",
       "      <th>25%</th>\n",
       "      <td>0.008450</td>\n",
       "      <td>0.045700</td>\n",
       "      <td>0.042600</td>\n",
       "    </tr>\n",
       "    <tr>\n",
       "      <th>50%</th>\n",
       "      <td>0.034600</td>\n",
       "      <td>0.094900</td>\n",
       "      <td>0.099200</td>\n",
       "    </tr>\n",
       "    <tr>\n",
       "      <th>75%</th>\n",
       "      <td>0.093600</td>\n",
       "      <td>0.171750</td>\n",
       "      <td>0.184550</td>\n",
       "    </tr>\n",
       "    <tr>\n",
       "      <th>max</th>\n",
       "      <td>0.327100</td>\n",
       "      <td>0.522800</td>\n",
       "      <td>0.534400</td>\n",
       "    </tr>\n",
       "  </tbody>\n",
       "</table>"
      ],
      "text/plain": [
       "<IPython.core.display.HTML object>"
      ]
     },
     "metadata": {},
     "output_type": "display_data"
    },
    {
     "name": "stdout",
     "output_type": "stream",
     "text": [
      "Table describing the dataframe with the AP values for each system.\n"
     ]
    },
    {
     "data": {
      "text/html": [
       "<table border=\"1\" class=\"dataframe\">\n",
       "  <thead>\n",
       "    <tr style=\"text-align: right;\">\n",
       "      <th></th>\n",
       "      <th>Recall</th>\n",
       "      <th>AP for TFIDF</th>\n",
       "      <th>AP for BM25</th>\n",
       "      <th>% Change for BM25</th>\n",
       "      <th>AP for LM</th>\n",
       "      <th>% Change for LM</th>\n",
       "    </tr>\n",
       "  </thead>\n",
       "  <tbody>\n",
       "    <tr>\n",
       "      <th>0</th>\n",
       "      <td>0.0</td>\n",
       "      <td>0.3904</td>\n",
       "      <td>0.7633</td>\n",
       "      <td>95.517418</td>\n",
       "      <td>0.7095</td>\n",
       "      <td>81.73668</td>\n",
       "    </tr>\n",
       "    <tr>\n",
       "      <th>1</th>\n",
       "      <td>0.1</td>\n",
       "      <td>0.1877</td>\n",
       "      <td>0.3888</td>\n",
       "      <td>107.139052</td>\n",
       "      <td>0.3911</td>\n",
       "      <td>108.364411</td>\n",
       "    </tr>\n",
       "    <tr>\n",
       "      <th>2</th>\n",
       "      <td>0.2</td>\n",
       "      <td>0.1295</td>\n",
       "      <td>0.2763</td>\n",
       "      <td>113.359073</td>\n",
       "      <td>0.2758</td>\n",
       "      <td>112.972973</td>\n",
       "    </tr>\n",
       "    <tr>\n",
       "      <th>3</th>\n",
       "      <td>0.3</td>\n",
       "      <td>0.0837</td>\n",
       "      <td>0.1904</td>\n",
       "      <td>127.479092</td>\n",
       "      <td>0.2033</td>\n",
       "      <td>142.891278</td>\n",
       "    </tr>\n",
       "    <tr>\n",
       "      <th>4</th>\n",
       "      <td>0.4</td>\n",
       "      <td>0.0446</td>\n",
       "      <td>0.1154</td>\n",
       "      <td>158.744395</td>\n",
       "      <td>0.1333</td>\n",
       "      <td>198.878924</td>\n",
       "    </tr>\n",
       "    <tr>\n",
       "      <th>5</th>\n",
       "      <td>0.5</td>\n",
       "      <td>0.0279</td>\n",
       "      <td>0.0625</td>\n",
       "      <td>124.014337</td>\n",
       "      <td>0.0780</td>\n",
       "      <td>179.569892</td>\n",
       "    </tr>\n",
       "    <tr>\n",
       "      <th>6</th>\n",
       "      <td>0.6</td>\n",
       "      <td>0.0171</td>\n",
       "      <td>0.0290</td>\n",
       "      <td>69.590643</td>\n",
       "      <td>0.0381</td>\n",
       "      <td>122.807018</td>\n",
       "    </tr>\n",
       "    <tr>\n",
       "      <th>7</th>\n",
       "      <td>0.7</td>\n",
       "      <td>0.0097</td>\n",
       "      <td>0.0171</td>\n",
       "      <td>76.28866</td>\n",
       "      <td>0.0182</td>\n",
       "      <td>87.628866</td>\n",
       "    </tr>\n",
       "    <tr>\n",
       "      <th>8</th>\n",
       "      <td>0.8</td>\n",
       "      <td>0.0000</td>\n",
       "      <td>0.0032</td>\n",
       "      <td>-</td>\n",
       "      <td>0.0030</td>\n",
       "      <td>-</td>\n",
       "    </tr>\n",
       "    <tr>\n",
       "      <th>9</th>\n",
       "      <td>0.9</td>\n",
       "      <td>0.0000</td>\n",
       "      <td>0.0000</td>\n",
       "      <td>-</td>\n",
       "      <td>0.0000</td>\n",
       "      <td>-</td>\n",
       "    </tr>\n",
       "    <tr>\n",
       "      <th>10</th>\n",
       "      <td>1.0</td>\n",
       "      <td>0.0000</td>\n",
       "      <td>0.0000</td>\n",
       "      <td>-</td>\n",
       "      <td>0.0000</td>\n",
       "      <td>-</td>\n",
       "    </tr>\n",
       "    <tr>\n",
       "      <th>11</th>\n",
       "      <td>Map</td>\n",
       "      <td>0.0607</td>\n",
       "      <td>0.1344</td>\n",
       "      <td>121.416804</td>\n",
       "      <td>0.1398</td>\n",
       "      <td>130.313015</td>\n",
       "    </tr>\n",
       "  </tbody>\n",
       "</table>"
      ],
      "text/plain": [
       "<IPython.core.display.HTML object>"
      ]
     },
     "metadata": {},
     "output_type": "display_data"
    },
    {
     "name": "stdout",
     "output_type": "stream",
     "text": [
      "Table with MAP and average precision values for each system.\n",
      "The BM25 and LM system are compared to the TFIDF system using significance tests.\n",
      "working 0 /5\n",
      "working 1 /5\n",
      "working 2 /5\n",
      "working 3 /5\n",
      "working 4 /5\n",
      "working 5 /5\n",
      "working 0 /5\n",
      "working 1 /5\n",
      "working 2 /5\n",
      "working 3 /5\n",
      "working 4 /5\n",
      "working 5 /5\n"
     ]
    },
    {
     "data": {
      "image/png": "[encoded data removed]",
      "text/plain": [
       "<Figure size 432x288 with 1 Axes>"
      ]
     },
     "metadata": {
      "needs_background": "light"
     },
     "output_type": "display_data"
    },
    {
     "name": "stdout",
     "output_type": "stream",
     "text": [
      "working 1 /4 0\n",
      "working 2 /4 5\n",
      "working 3 /4 10\n",
      "working 4 /4 15\n",
      "working 1 /4 0\n",
      "working 2 /4 5\n",
      "working 3 /4 10\n",
      "working 4 /4 15\n"
     ]
    },
    {
     "data": {
      "image/png": "[encoded data removed]",
      "text/plain": [
       "<Figure size 432x288 with 1 Axes>"
      ]
     },
     "metadata": {
      "needs_background": "light"
     },
     "output_type": "display_data"
    },
    {
     "name": "stdout",
     "output_type": "stream",
     "text": [
      "(Only plotted for multipliers 0, 5, 10, 15 due to time constraints)\n"
     ]
    },
    {
     "data": {
      "text/plain": [
       "True"
      ]
     },
     "execution_count": 8,
     "metadata": {},
     "output_type": "execute_result"
    }
   ],
   "source": [
    "%time\n",
    "#%%memit\n",
    "import json\n",
    "import time\n",
    "\n",
    "# Core code goes into this cell\n",
    "# You may use other functions defined in previous (own created) cells to make your code more modular of course\n",
    "# We will manually grade the output of this cell, and look at the code.\n",
    "\n",
    "\n",
    "def create_index(document_collection):\n",
    "    '''Creates an index for the collection of documents.'''\n",
    "    start = time.time()\n",
    "    # Loading from disk if possible, to save time.\n",
    "    try:\n",
    "        with open('index.json', 'r') as json_file:\n",
    "            print('loading from disk')\n",
    "            return json.load(json_file)\n",
    "    except (OSError, IOError) as e:\n",
    "        Index = defaultdict(lambda: defaultdict(int))\n",
    "        path = trec_data_path + document_collection\n",
    "\n",
    "        doc_pattern = re.compile(r'(<DOC>.*?</DOC>)', re.DOTALL)\n",
    "        docno_pattern = re.compile(r'<DOCNO> (.*?) </DOCNO>', re.DOTALL)\n",
    "        text_pattern = re.compile(r'(<TEXT>.*?</TEXT>)', re.DOTALL)\n",
    "        strip_pattern = re.compile(r'<.*?>', re.DOTALL)\n",
    "        \n",
    "        total_files = 0\n",
    "        doc_norms = dict()\n",
    "        doc_lengths = defaultdict(int)\n",
    "\n",
    "        stemmer  = PorterStemmer()\n",
    "        lookuptable = dict()\n",
    "\n",
    "        for root, dirs, files in os.walk(path):\n",
    "            for file in tqdm(files):\n",
    "                if file not in ['.DS_Store', 'readme']:\n",
    "                    total_files += 1\n",
    "\n",
    "                    with open(root + '/' + file, 'r', encoding='latin-1') as f:\n",
    "                        documents = re.findall(doc_pattern, f.read())\n",
    "\n",
    "                    for doc in documents:\n",
    "                        docno = re.search(docno_pattern, doc).group(1)\n",
    "                        \n",
    "                        text = ' '.join(re.findall(text_pattern, doc))\n",
    "                        text = re.sub(strip_pattern, ' ', text)\n",
    "                        \n",
    "                        tokens = nltk.word_tokenize(text)\n",
    "                        \n",
    "                        stemmed_tokens = list()\n",
    "                        \n",
    "                        # Use lookuptable to minimize running stemmer.stem\n",
    "                        for token in tokens:\n",
    "                            if token in lookuptable:\n",
    "                                stemmed_tokens.append(lookuptable[token])\n",
    "                            else:\n",
    "                                stem_token = stemmer.stem(token)\n",
    "                                stemmed_tokens.append(stem_token)\n",
    "                                lookuptable[token] = stem_token\n",
    "                        \n",
    "                        \n",
    "                        # Only add document if it has any information in it.\n",
    "                        if len(stemmed_tokens) > 0:\n",
    "                            doc_lengths[docno] = len(stemmed_tokens)\n",
    "                            counts = Counter(stemmed_tokens)\n",
    "                            \n",
    "                            doc_norms[docno] = np.linalg.norm(list(counts.values()))\n",
    "                            \n",
    "                            for word, count in counts.items():\n",
    "                                Index[word][docno] = count\n",
    "                                \n",
    "\n",
    "        NewIndex = {}\n",
    "        \n",
    "        for token, docdict in Index.items():\n",
    "            NewIndex[token] = {'DocFreq': len(docdict), 'CorpusFreq': sum(docdict.values()), 'Freq_per_Doc': docdict}\n",
    "\n",
    "        NewIndex['DocNorms'] = doc_norms\n",
    "        NewIndex['DocSizes'] = doc_lengths\n",
    "        NewIndex['CollectionSize'] = sum(doc_lengths.values())\n",
    "        NewIndex['TotalFiles'] = total_files\n",
    "        NewIndex['TotalDocuments'] = len(doc_lengths)\n",
    "        NewIndex['VocSize'] = len(Index)\n",
    "\n",
    "        print('Writing index to disk...')\n",
    "        with open('index.json', 'w') as file:\n",
    "            file.write(json.dumps(NewIndex))\n",
    "        dt = int(time.time() - start)\n",
    "        print('index_build_time:', dt//60, 'm', dt % 60,'s')\n",
    "        return NewIndex   \n",
    "\n",
    "    \n",
    "def run_queries(index, query_set='train',model='LM',studid=1234567):\n",
    "    '''Runs all queries in query_set using the index, and ranks the results using model.'''\n",
    "    # Loading data\n",
    "    path = trec_data_path + 'queries/queries_' + query_set + '.csv'\n",
    "    stemmer  = PorterStemmer()\n",
    "    qset = pd.read_csv(path)\n",
    "    \n",
    "    # preproces titles and description\n",
    "    q_titles = [nltk.word_tokenize(sentence) for sentence in qset['title']]\n",
    "    q_titles = [[stemmer.stem(word) for word in query] for query in q_titles]\n",
    "    q_tpl = list(zip(list(qset['q_id']), q_titles))\n",
    "                                                                                               \n",
    "    # calc 1000 highest ranking docs for every query from index with model and add to formatted_ranks\n",
    "    formatted_ranks = [] \n",
    "    \n",
    "    if model == 'BM25':\n",
    "        for q_id, q_title in q_tpl:   \n",
    "            BM25ranking = BM25(q_title, index)\n",
    "            formatted_ranks.append(formatranking(BM25ranking, q_id))\n",
    "\n",
    "        # remove nested lists for every query\n",
    "        resultslist = [doc for query in formatted_ranks for doc in query]\n",
    "        return pd.DataFrame(resultslist)\n",
    "    \n",
    "    if model == 'LM':\n",
    "        for q_id, q_title in q_tpl:\n",
    "            #LMranking = LM(q_title, index)\n",
    "            LMranking = LM(q_title, index, model='Dirichlet smoothing')\n",
    "            formatted_ranks.append(formatranking(LMranking, q_id))\n",
    "        resultslist = [doc for query in formatted_ranks for doc in query]\n",
    "        return pd.DataFrame(resultslist)\n",
    "\n",
    "    if model == 'TFIDF':\n",
    "        for q_id, q_title in q_tpl:   \n",
    "            TFIDFranking = rankedSearchTfidf(q_title, index)\n",
    "            formatted_ranks.append(formatranking(TFIDFranking, q_id))\n",
    "        resultslist = [doc for query in formatted_ranks for doc in query]\n",
    "        return pd.DataFrame(resultslist)\n",
    "    \n",
    "\n",
    "def evaluate(index, studid):\n",
    "    i = 0\n",
    "    print('0/6 starting evaluation...')\n",
    "    for run in [\"train\",\"test\"]:\n",
    "        for model in [\"BM25\",\"TFIDF\",\"LM\"]:\n",
    "            start = time.time()\n",
    "            resultsdf=run_queries(index, query_set=run,model=model,studid=studid)\n",
    "            filename= 'results_'+run+'_'+str(studid)+'_'+model\n",
    "            resultsdf.to_csv(filename, sep='\\t', header=None, index=False)\n",
    "            i += 1\n",
    "            dt = int(time.time() - start)\n",
    "            print(str(i)+'/6', dt//60, 'm', dt % 60,'s  filename:', filename)\n",
    "            pass\n",
    "        \n",
    "        PR_plot(run, studid)\n",
    "        AP_graph(run, studid)\n",
    "        AP_table(run, studid)\n",
    "        \n",
    "    LM_lambda_plot(index)\n",
    "    LM_mu_plot(index)  \n",
    "        \n",
    "        \n",
    "def runmyexperiment():\n",
    "    # your code here, doing what is described above\n",
    "    # in particular it will output plots and tables (make sure to print them)\n",
    "    index = create_index('docs/')\n",
    "    evaluate(index, 12208698)\n",
    "    return True \n",
    "\n",
    "runmyexperiment()"
   ]
  },
  {
   "cell_type": "code",
   "execution_count": 9,
   "metadata": {
    "nbgrader": {
     "grade": true,
     "grade_id": "codescore",
     "locked": false,
     "points": 5,
     "schema_version": 3,
     "solution": true
    }
   },
   "outputs": [],
   "source": [
    "# Here we give the 5 points for overall look and feel and the tables and plots"
   ]
  },
  {
   "cell_type": "code",
   "execution_count": 10,
   "metadata": {},
   "outputs": [
    {
     "name": "stdout",
     "output_type": "stream",
     "text": [
      "results_test_12208698_BM25\n",
      "map                   \tall\t0.1344\n",
      "results_test_12208698_LM\n",
      "map                   \tall\t0.1398\n",
      "results_test_12208698_TFIDF\n",
      "map                   \tall\t0.0607\n",
      "results_train_12208698_BM25\n",
      "map                   \tall\t0.1344\n",
      "results_train_12208698_LM\n",
      "map                   \tall\t0.1398\n",
      "results_train_12208698_TFIDF\n",
      "map                   \tall\t0.0607\n"
     ]
    }
   ],
   "source": [
    "# disclaimer: this does not work on the new test set\n",
    "resultfiles= !ls results*\n",
    "\n",
    "for f in resultfiles:\n",
    "    print(f)\n",
    "    ! $trec_eval_path/trec_eval -m map  $trec_data_path/qrels/qrels_train.txt $f"
   ]
  },
  {
   "cell_type": "code",
   "execution_count": 11,
   "metadata": {
    "nbgrader": {
     "grade": true,
     "grade_id": "tests",
     "locked": true,
     "points": 0.1,
     "schema_version": 3,
     "solution": false
    }
   },
   "outputs": [
    {
     "name": "stdout",
     "output_type": "stream",
     "text": [
      "results_test_12208698_BM25\n",
      "    0   1               2  3          4         5\n",
      "0  51  Q0  WSJ871218-0126  1  40.857116  STANDARD\n",
      "1  51  Q0  WSJ871012-0049  2  38.899461  STANDARD\n",
      "results_test_12208698_LM\n",
      "    0   1               2  3         4         5\n",
      "0  51  Q0  WSJ871218-0126  1  0.000017  STANDARD\n",
      "1  51  Q0  WSJ870316-0068  2  0.000010  STANDARD\n",
      "results_test_12208698_TFIDF\n",
      "    0   1               2  3           4         5\n",
      "0  51  Q0  WSJ870311-0034  1  284.223549  STANDARD\n",
      "1  51  Q0  WSJ890810-0103  2  266.811962  STANDARD\n",
      "results_train_12208698_BM25\n",
      "    0   1               2  3          4         5\n",
      "0  51  Q0  WSJ871218-0126  1  40.857116  STANDARD\n",
      "1  51  Q0  WSJ871012-0049  2  38.899461  STANDARD\n",
      "results_train_12208698_LM\n",
      "    0   1               2  3         4         5\n",
      "0  51  Q0  WSJ871218-0126  1  0.000017  STANDARD\n",
      "1  51  Q0  WSJ870316-0068  2  0.000010  STANDARD\n",
      "results_train_12208698_TFIDF\n",
      "    0   1               2  3           4         5\n",
      "0  51  Q0  WSJ870311-0034  1  284.223549  STANDARD\n",
      "1  51  Q0  WSJ890810-0103  2  266.811962  STANDARD\n"
     ]
    }
   ],
   "source": [
    "# here we check your result file, this cell should not give errors\n",
    "\n",
    "resultfiles= !ls results*\n",
    "\n",
    "for f in resultfiles:\n",
    "    print(f)\n",
    "    check_output_df= pd.read_csv(f, sep='\\t', header=None)\n",
    "    print(check_output_df.head(2))\n",
    "    assert check_output_df.shape[1]==6\n",
    "    assert check_output_df[1][0]=='Q0'  # constant\n",
    "    assert np.issubdtype(check_output_df[0].dtype, np.integer) # query id\n",
    "    assert np.issubdtype(check_output_df[3].dtype, np.integer) # rank is an integer\n",
    "    assert np.issubdtype(check_output_df[4].dtype, np.floating) # score must be a float"
   ]
  }
 ],
 "metadata": {
  "celltoolbar": "Create Assignment",
  "kernelspec": {
   "display_name": "Python 3",
   "language": "python",
   "name": "python3"
  },
  "language_info": {
   "codemirror_mode": {
    "name": "ipython",
    "version": 3
   },
   "file_extension": ".py",
   "mimetype": "text/x-python",
   "name": "python",
   "nbconvert_exporter": "python",
   "pygments_lexer": "ipython3",
   "version": "3.8.8"
  },
  "toc": {
   "nav_menu": {},
   "number_sections": false,
   "sideBar": true,
   "skip_h1_title": false,
   "title_cell": "Table of Contents",
   "title_sidebar": "Contents",
   "toc_cell": false,
   "toc_position": {},
   "toc_section_display": true,
   "toc_window_display": false
  }
 },
 "nbformat": 4,
 "nbformat_minor": 2
}
